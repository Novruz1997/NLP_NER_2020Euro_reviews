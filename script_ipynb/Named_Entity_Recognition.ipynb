{
  "nbformat": 4,
  "nbformat_minor": 0,
  "metadata": {
    "colab": {
      "name": "Named_Entity_Recognition.ipynb",
      "private_outputs": true,
      "provenance": []
    },
    "kernelspec": {
      "name": "python3",
      "display_name": "Python 3"
    },
    "language_info": {
      "name": "python"
    }
  },
  "cells": [
    {
      "cell_type": "code",
      "metadata": {
        "id": "yjXVN_w_sBkb"
      },
      "source": [
        "import spacy\n",
        "import json"
      ],
      "execution_count": null,
      "outputs": []
    },
    {
      "cell_type": "code",
      "metadata": {
        "id": "DW7lLhiisFhu"
      },
      "source": [
        "from google.colab import files \n",
        "uppload = files.upload()"
      ],
      "execution_count": null,
      "outputs": []
    },
    {
      "cell_type": "code",
      "metadata": {
        "id": "s7DRdkPFsaUl"
      },
      "source": [
        "with open('/content/train_data.json') as f:\n",
        "  data = json.load(f)"
      ],
      "execution_count": null,
      "outputs": []
    },
    {
      "cell_type": "code",
      "metadata": {
        "id": "vrZHInP_syCT"
      },
      "source": [
        "nlp = spacy.blank('en')\n",
        "ner = nlp.create_pipe('ner')\n",
        "nlp.add_pipe(ner)"
      ],
      "execution_count": null,
      "outputs": []
    },
    {
      "cell_type": "code",
      "metadata": {
        "id": "g1lV1uyPBBzf"
      },
      "source": [
        "from spacy.language import Language\n",
        "import spacy"
      ],
      "execution_count": null,
      "outputs": []
    },
    {
      "cell_type": "code",
      "metadata": {
        "id": "WhBys-RMsy0e"
      },
      "source": [
        "nlp.pipe_names"
      ],
      "execution_count": null,
      "outputs": []
    },
    {
      "cell_type": "code",
      "metadata": {
        "id": "tYIiob8LumB7"
      },
      "source": [
        "for label in data['classes']:\n",
        "  nlp.entity.add_label(label)"
      ],
      "execution_count": null,
      "outputs": []
    },
    {
      "cell_type": "code",
      "metadata": {
        "id": "dZiVxTKYwUL-"
      },
      "source": [
        "optimizer = nlp.begin_training()"
      ],
      "execution_count": null,
      "outputs": []
    },
    {
      "cell_type": "code",
      "metadata": {
        "id": "dSR5ZhxIwaKr"
      },
      "source": [
        "li = []\n",
        "for text, annotations in data['annotations']:\n",
        "  # if len(text) > 0:\n",
        "  #   nlp.update([text], [annotations], sgd = optimizer, losses=losses) \n",
        "  li.append((text, annotations))"
      ],
      "execution_count": null,
      "outputs": []
    },
    {
      "cell_type": "code",
      "metadata": {
        "id": "EAIfr00tzHlo"
      },
      "source": [
        "import random"
      ],
      "execution_count": null,
      "outputs": []
    },
    {
      "cell_type": "code",
      "metadata": {
        "id": "7sFay7ahyEwN"
      },
      "source": [
        "# Start the training\n",
        "nlp.begin_training()\n",
        "\n",
        "# Loop for 10 iterations\n",
        "for itn in range(10):\n",
        "    # Shuffle the training data\n",
        "    random.shuffle(li)\n",
        "    losses = {}\n",
        "    \n",
        "    # Batch the examples and iterate over them\n",
        "    for batch in spacy.util.minibatch(li, size=2):\n",
        "        texts = [text for text, entities in batch]\n",
        "        annotations = [entities for text, entities in batch]\n",
        "        \n",
        "        # Update the model\n",
        "        nlp.update(texts, annotations, losses=losses)\n",
        "        print(losses)"
      ],
      "execution_count": null,
      "outputs": []
    },
    {
      "cell_type": "code",
      "metadata": {
        "id": "wN9QccsozUyY"
      },
      "source": [
        "TEST_DATA = ['Turkey has very young and talanted squad for this tournament',\n",
        "             'Hakan Calhanoglu will be top scorer for Turkey',\n",
        "             'the best players of France are Mbappe and Kante',\n",
        "             'Cristiano will score 10 goals in this tournament', \n",
        "             'I am defending last World Cup champions, France',\n",
        "             'Belgium is serious favorite of crown',\n",
        "             'Memphis Depay was more valuable for Holland than abybody else',\n",
        "             'Lewandowski will score more goals and assists for Poland than EURO 2016',\n",
        "             'Harry Kane is my favorite player for golden boot',\n",
        "             ]"
      ],
      "execution_count": null,
      "outputs": []
    },
    {
      "cell_type": "code",
      "metadata": {
        "id": "AMMwQ_m5yJgv"
      },
      "source": [
        "# Process each text in TEST_DATA\n",
        "for doc in nlp.pipe(TEST_DATA):\n",
        "    # Print the document text and entitites\n",
        "    print(doc.text)\n",
        "    print(doc.ents,'\\n\\n')"
      ],
      "execution_count": null,
      "outputs": []
    },
    {
      "cell_type": "code",
      "metadata": {
        "id": "RzGwdCvEzuTC"
      },
      "source": [
        ""
      ],
      "execution_count": null,
      "outputs": []
    }
  ]
}